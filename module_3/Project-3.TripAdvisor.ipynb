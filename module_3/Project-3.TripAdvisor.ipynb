{
 "cells": [
  {
   "cell_type": "markdown",
   "metadata": {},
   "source": [
    "# Загрузка Pandas и очистка данных"
   ]
  },
  {
   "cell_type": "code",
   "execution_count": 1,
   "metadata": {},
   "outputs": [],
   "source": [
    "import pandas as pd\n",
    "import re\n",
    "from datetime import datetime"
   ]
  },
  {
   "cell_type": "code",
   "execution_count": 2,
   "metadata": {},
   "outputs": [],
   "source": [
    "df = pd.read_csv('main_task.xls')"
   ]
  },
  {
   "cell_type": "code",
   "execution_count": 3,
   "metadata": {
    "scrolled": true
   },
   "outputs": [
    {
     "name": "stdout",
     "output_type": "stream",
     "text": [
      "<class 'pandas.core.frame.DataFrame'>\n",
      "RangeIndex: 40000 entries, 0 to 39999\n",
      "Data columns (total 10 columns):\n",
      " #   Column             Non-Null Count  Dtype  \n",
      "---  ------             --------------  -----  \n",
      " 0   Restaurant_id      40000 non-null  object \n",
      " 1   City               40000 non-null  object \n",
      " 2   Cuisine Style      30717 non-null  object \n",
      " 3   Ranking            40000 non-null  float64\n",
      " 4   Rating             40000 non-null  float64\n",
      " 5   Price Range        26114 non-null  object \n",
      " 6   Number of Reviews  37457 non-null  float64\n",
      " 7   Reviews            40000 non-null  object \n",
      " 8   URL_TA             40000 non-null  object \n",
      " 9   ID_TA              40000 non-null  object \n",
      "dtypes: float64(3), object(7)\n",
      "memory usage: 3.1+ MB\n"
     ]
    }
   ],
   "source": [
    "#Смотрим на типы данных в стобцах\n",
    "df.info()"
   ]
  },
  {
   "cell_type": "markdown",
   "metadata": {},
   "source": [
    "Колонки Cuisine Style,Price Range и Number of Reviews содержат пропуски в данных - их нужно будет заполнить либо удалить сам стоблец."
   ]
  },
  {
   "cell_type": "markdown",
   "metadata": {},
   "source": [
    "### Уровень цен (Price Range)"
   ]
  },
  {
   "cell_type": "code",
   "execution_count": 4,
   "metadata": {},
   "outputs": [
    {
     "data": {
      "text/plain": [
       "array(['$$ - $$$', nan, '$$$$', '$'], dtype=object)"
      ]
     },
     "execution_count": 4,
     "metadata": {},
     "output_type": "execute_result"
    }
   ],
   "source": [
    "df['Price Range'].unique()"
   ]
  },
  {
   "cell_type": "code",
   "execution_count": 5,
   "metadata": {},
   "outputs": [
    {
     "data": {
      "text/plain": [
       "18412"
      ]
     },
     "execution_count": 5,
     "metadata": {},
     "output_type": "execute_result"
    }
   ],
   "source": [
    "len(df[df['Price Range']=='$$ - $$$'])"
   ]
  },
  {
   "cell_type": "markdown",
   "metadata": {},
   "source": [
    "Столбец содержит значения в формате символов - их нужно перевести в числовой формат:"
   ]
  },
  {
   "cell_type": "code",
   "execution_count": 6,
   "metadata": {},
   "outputs": [],
   "source": [
    "def convert_prices_to_numeric(x):\n",
    "    if x=='$':\n",
    "        return 1\n",
    "    elif x=='$$ - $$$':\n",
    "        return 2\n",
    "    elif x=='$$$$':\n",
    "        return 3"
   ]
  },
  {
   "cell_type": "code",
   "execution_count": 7,
   "metadata": {},
   "outputs": [],
   "source": [
    "df['Price']=df['Price Range'].apply(convert_prices_to_numeric)"
   ]
  },
  {
   "cell_type": "markdown",
   "metadata": {},
   "source": [
    "Теперь попробуем заполнить пропуски в данных средним значением по столбцу:"
   ]
  },
  {
   "cell_type": "code",
   "execution_count": 8,
   "metadata": {},
   "outputs": [
    {
     "data": {
      "text/plain": [
       "0        2.000000\n",
       "1        1.814046\n",
       "2        3.000000\n",
       "3        1.814046\n",
       "4        2.000000\n",
       "           ...   \n",
       "39995    2.000000\n",
       "39996    2.000000\n",
       "39997    1.814046\n",
       "39998    2.000000\n",
       "39999    2.000000\n",
       "Name: Price, Length: 40000, dtype: float64"
      ]
     },
     "execution_count": 8,
     "metadata": {},
     "output_type": "execute_result"
    }
   ],
   "source": [
    "df['Price'].fillna(df['Price'].mean())"
   ]
  },
  {
   "cell_type": "markdown",
   "metadata": {},
   "source": [
    "Среднее значение получилось дробным, что не позволяет отнести его к одному из трех уровней цен - поэтому используем медиану вместо среднего."
   ]
  },
  {
   "cell_type": "code",
   "execution_count": 9,
   "metadata": {},
   "outputs": [],
   "source": [
    "df['Price']=df['Price'].fillna(df['Price'].median())"
   ]
  },
  {
   "cell_type": "markdown",
   "metadata": {},
   "source": [
    "Теперь данные об уровне цен в ресторанах имеют числовые значения и могут быть добавлены в качестве параметра:"
   ]
  },
  {
   "cell_type": "code",
   "execution_count": 10,
   "metadata": {},
   "outputs": [
    {
     "data": {
      "text/plain": [
       "array([2., 3., 1.])"
      ]
     },
     "execution_count": 10,
     "metadata": {},
     "output_type": "execute_result"
    }
   ],
   "source": [
    "df['Price'].unique()"
   ]
  },
  {
   "cell_type": "markdown",
   "metadata": {},
   "source": [
    "### Города (City)"
   ]
  },
  {
   "cell_type": "code",
   "execution_count": 11,
   "metadata": {
    "scrolled": true
   },
   "outputs": [
    {
     "data": {
      "text/plain": [
       "array(['Paris', 'Stockholm', 'London', 'Berlin', 'Munich', 'Oporto',\n",
       "       'Milan', 'Bratislava', 'Vienna', 'Rome', 'Barcelona', 'Madrid',\n",
       "       'Dublin', 'Brussels', 'Zurich', 'Warsaw', 'Budapest', 'Copenhagen',\n",
       "       'Amsterdam', 'Lyon', 'Hamburg', 'Lisbon', 'Prague', 'Oslo',\n",
       "       'Helsinki', 'Edinburgh', 'Geneva', 'Ljubljana', 'Athens',\n",
       "       'Luxembourg', 'Krakow'], dtype=object)"
      ]
     },
     "execution_count": 11,
     "metadata": {},
     "output_type": "execute_result"
    }
   ],
   "source": [
    "df['City'].unique()"
   ]
  },
  {
   "cell_type": "code",
   "execution_count": 12,
   "metadata": {
    "scrolled": true
   },
   "outputs": [
    {
     "data": {
      "text/plain": [
       "31"
      ]
     },
     "execution_count": 12,
     "metadata": {},
     "output_type": "execute_result"
    }
   ],
   "source": [
    "df['City'].nunique()"
   ]
  },
  {
   "cell_type": "markdown",
   "metadata": {},
   "source": [
    "У нас есть данные о ресторанах в 31 городе - при этому пропуски отсутствуют."
   ]
  },
  {
   "cell_type": "markdown",
   "metadata": {},
   "source": [
    "Для того чтобы добавить признак города в выборку создадим отдельный dataframe, в котором каждый столбец будет соответствовать одному городу из списка со значениями 0 или 1 в зависимости от того, относится наблюдение к этому городу или нет."
   ]
  },
  {
   "cell_type": "code",
   "execution_count": 13,
   "metadata": {},
   "outputs": [],
   "source": [
    "cities=pd.DataFrame()\n",
    "for city in df['City'].unique():\n",
    "    cities[city]=(df['City']==city).astype(int)"
   ]
  },
  {
   "cell_type": "code",
   "execution_count": 14,
   "metadata": {},
   "outputs": [
    {
     "data": {
      "text/html": [
       "<div>\n",
       "<style scoped>\n",
       "    .dataframe tbody tr th:only-of-type {\n",
       "        vertical-align: middle;\n",
       "    }\n",
       "\n",
       "    .dataframe tbody tr th {\n",
       "        vertical-align: top;\n",
       "    }\n",
       "\n",
       "    .dataframe thead th {\n",
       "        text-align: right;\n",
       "    }\n",
       "</style>\n",
       "<table border=\"1\" class=\"dataframe\">\n",
       "  <thead>\n",
       "    <tr style=\"text-align: right;\">\n",
       "      <th></th>\n",
       "      <th>Paris</th>\n",
       "      <th>Stockholm</th>\n",
       "      <th>London</th>\n",
       "      <th>Berlin</th>\n",
       "      <th>Munich</th>\n",
       "      <th>Oporto</th>\n",
       "      <th>Milan</th>\n",
       "      <th>Bratislava</th>\n",
       "      <th>Vienna</th>\n",
       "      <th>Rome</th>\n",
       "      <th>...</th>\n",
       "      <th>Lisbon</th>\n",
       "      <th>Prague</th>\n",
       "      <th>Oslo</th>\n",
       "      <th>Helsinki</th>\n",
       "      <th>Edinburgh</th>\n",
       "      <th>Geneva</th>\n",
       "      <th>Ljubljana</th>\n",
       "      <th>Athens</th>\n",
       "      <th>Luxembourg</th>\n",
       "      <th>Krakow</th>\n",
       "    </tr>\n",
       "  </thead>\n",
       "  <tbody>\n",
       "    <tr>\n",
       "      <th>0</th>\n",
       "      <td>1</td>\n",
       "      <td>0</td>\n",
       "      <td>0</td>\n",
       "      <td>0</td>\n",
       "      <td>0</td>\n",
       "      <td>0</td>\n",
       "      <td>0</td>\n",
       "      <td>0</td>\n",
       "      <td>0</td>\n",
       "      <td>0</td>\n",
       "      <td>...</td>\n",
       "      <td>0</td>\n",
       "      <td>0</td>\n",
       "      <td>0</td>\n",
       "      <td>0</td>\n",
       "      <td>0</td>\n",
       "      <td>0</td>\n",
       "      <td>0</td>\n",
       "      <td>0</td>\n",
       "      <td>0</td>\n",
       "      <td>0</td>\n",
       "    </tr>\n",
       "    <tr>\n",
       "      <th>1</th>\n",
       "      <td>0</td>\n",
       "      <td>1</td>\n",
       "      <td>0</td>\n",
       "      <td>0</td>\n",
       "      <td>0</td>\n",
       "      <td>0</td>\n",
       "      <td>0</td>\n",
       "      <td>0</td>\n",
       "      <td>0</td>\n",
       "      <td>0</td>\n",
       "      <td>...</td>\n",
       "      <td>0</td>\n",
       "      <td>0</td>\n",
       "      <td>0</td>\n",
       "      <td>0</td>\n",
       "      <td>0</td>\n",
       "      <td>0</td>\n",
       "      <td>0</td>\n",
       "      <td>0</td>\n",
       "      <td>0</td>\n",
       "      <td>0</td>\n",
       "    </tr>\n",
       "    <tr>\n",
       "      <th>2</th>\n",
       "      <td>0</td>\n",
       "      <td>0</td>\n",
       "      <td>1</td>\n",
       "      <td>0</td>\n",
       "      <td>0</td>\n",
       "      <td>0</td>\n",
       "      <td>0</td>\n",
       "      <td>0</td>\n",
       "      <td>0</td>\n",
       "      <td>0</td>\n",
       "      <td>...</td>\n",
       "      <td>0</td>\n",
       "      <td>0</td>\n",
       "      <td>0</td>\n",
       "      <td>0</td>\n",
       "      <td>0</td>\n",
       "      <td>0</td>\n",
       "      <td>0</td>\n",
       "      <td>0</td>\n",
       "      <td>0</td>\n",
       "      <td>0</td>\n",
       "    </tr>\n",
       "    <tr>\n",
       "      <th>3</th>\n",
       "      <td>0</td>\n",
       "      <td>0</td>\n",
       "      <td>0</td>\n",
       "      <td>1</td>\n",
       "      <td>0</td>\n",
       "      <td>0</td>\n",
       "      <td>0</td>\n",
       "      <td>0</td>\n",
       "      <td>0</td>\n",
       "      <td>0</td>\n",
       "      <td>...</td>\n",
       "      <td>0</td>\n",
       "      <td>0</td>\n",
       "      <td>0</td>\n",
       "      <td>0</td>\n",
       "      <td>0</td>\n",
       "      <td>0</td>\n",
       "      <td>0</td>\n",
       "      <td>0</td>\n",
       "      <td>0</td>\n",
       "      <td>0</td>\n",
       "    </tr>\n",
       "    <tr>\n",
       "      <th>4</th>\n",
       "      <td>0</td>\n",
       "      <td>0</td>\n",
       "      <td>0</td>\n",
       "      <td>0</td>\n",
       "      <td>1</td>\n",
       "      <td>0</td>\n",
       "      <td>0</td>\n",
       "      <td>0</td>\n",
       "      <td>0</td>\n",
       "      <td>0</td>\n",
       "      <td>...</td>\n",
       "      <td>0</td>\n",
       "      <td>0</td>\n",
       "      <td>0</td>\n",
       "      <td>0</td>\n",
       "      <td>0</td>\n",
       "      <td>0</td>\n",
       "      <td>0</td>\n",
       "      <td>0</td>\n",
       "      <td>0</td>\n",
       "      <td>0</td>\n",
       "    </tr>\n",
       "  </tbody>\n",
       "</table>\n",
       "<p>5 rows × 31 columns</p>\n",
       "</div>"
      ],
      "text/plain": [
       "   Paris  Stockholm  London  Berlin  Munich  Oporto  Milan  Bratislava  \\\n",
       "0      1          0       0       0       0       0      0           0   \n",
       "1      0          1       0       0       0       0      0           0   \n",
       "2      0          0       1       0       0       0      0           0   \n",
       "3      0          0       0       1       0       0      0           0   \n",
       "4      0          0       0       0       1       0      0           0   \n",
       "\n",
       "   Vienna  Rome  ...  Lisbon  Prague  Oslo  Helsinki  Edinburgh  Geneva  \\\n",
       "0       0     0  ...       0       0     0         0          0       0   \n",
       "1       0     0  ...       0       0     0         0          0       0   \n",
       "2       0     0  ...       0       0     0         0          0       0   \n",
       "3       0     0  ...       0       0     0         0          0       0   \n",
       "4       0     0  ...       0       0     0         0          0       0   \n",
       "\n",
       "   Ljubljana  Athens  Luxembourg  Krakow  \n",
       "0          0       0           0       0  \n",
       "1          0       0           0       0  \n",
       "2          0       0           0       0  \n",
       "3          0       0           0       0  \n",
       "4          0       0           0       0  \n",
       "\n",
       "[5 rows x 31 columns]"
      ]
     },
     "execution_count": 14,
     "metadata": {},
     "output_type": "execute_result"
    }
   ],
   "source": [
    "cities.head()"
   ]
  },
  {
   "cell_type": "markdown",
   "metadata": {},
   "source": [
    "Добавим в новый датафрейм колонку с рейтингом:"
   ]
  },
  {
   "cell_type": "code",
   "execution_count": 15,
   "metadata": {},
   "outputs": [],
   "source": [
    "cities['Rating']=df['Rating']"
   ]
  },
  {
   "cell_type": "markdown",
   "metadata": {},
   "source": [
    "Затем построим матрицу корреляции и опытным путем выясним, для каких городов коэффициент корреляции с рейтингом окажется больше, чем для остальных - именно сведения о них стоит включить в выборку."
   ]
  },
  {
   "cell_type": "code",
   "execution_count": 16,
   "metadata": {
    "scrolled": true
   },
   "outputs": [],
   "source": [
    "#с помощью iloc[:-1] убираем коэффициент корреляции rating с самим собой\n",
    "#nlargest() возвращает n-максимальных значений в ряду данных\n",
    "most_important_cities=cities.corr()['Rating'].iloc[:-1].nlargest(5).index.values.tolist() "
   ]
  },
  {
   "cell_type": "code",
   "execution_count": 17,
   "metadata": {},
   "outputs": [],
   "source": [
    "df['Important_cities']=df['City'].apply(lambda x: 1 if x in most_important_cities else 0)"
   ]
  },
  {
   "cell_type": "markdown",
   "metadata": {},
   "source": [
    "По аналогии с этим, выберем города, для которых коэффициент корреляции минимален (то есть наиболее сильная отрицательная зависимость)."
   ]
  },
  {
   "cell_type": "code",
   "execution_count": 18,
   "metadata": {},
   "outputs": [],
   "source": [
    "least_important_cities=cities.corr()['Rating'].iloc[:-1].nsmallest(3).index.values.tolist() "
   ]
  },
  {
   "cell_type": "code",
   "execution_count": 19,
   "metadata": {},
   "outputs": [],
   "source": [
    "df['Less_important_cities']=df['City'].apply(lambda x: 1 if x in least_important_cities else 0)"
   ]
  },
  {
   "cell_type": "markdown",
   "metadata": {},
   "source": [
    "Помимо этого мы можем выделить топ-5 городов, которые в целом наиболее часто встречаются в выборке, и также использовать эту информацию для построения модели."
   ]
  },
  {
   "cell_type": "code",
   "execution_count": 20,
   "metadata": {},
   "outputs": [],
   "source": [
    "df['Popular_cities']=df['City'].apply(lambda x: 1 if x in df['City'].value_counts().head(5) else 0)"
   ]
  },
  {
   "cell_type": "markdown",
   "metadata": {},
   "source": [
    "### Кухня (Cuisine Style)"
   ]
  },
  {
   "cell_type": "code",
   "execution_count": 21,
   "metadata": {},
   "outputs": [
    {
     "data": {
      "text/plain": [
       "array([\"['European', 'French', 'International']\", nan,\n",
       "       \"['Japanese', 'Sushi', 'Asian', 'Grill', 'Vegetarian Friendly', 'Vegan Options', 'Gluten Free Options']\",\n",
       "       ...,\n",
       "       \"['Steakhouse', 'Barbecue', 'Australian', 'Argentinean', 'South American']\",\n",
       "       \"['French', 'American', 'Cafe', 'Healthy', 'Soups']\",\n",
       "       \"['French', 'Contemporary', 'Fusion', 'Gastropub']\"], dtype=object)"
      ]
     },
     "execution_count": 21,
     "metadata": {},
     "output_type": "execute_result"
    }
   ],
   "source": [
    "df['Cuisine Style'].unique()"
   ]
  },
  {
   "cell_type": "markdown",
   "metadata": {},
   "source": [
    "Строки столбца представляют собой скрытые списки + присутствуют пропущенные значения (None) - поэтому для извлечения оттуда информации сначала заполним пропуски и удалим лишние скобы и кавычки."
   ]
  },
  {
   "cell_type": "markdown",
   "metadata": {},
   "source": [
    "*Так как в столбце содержатся данные о видах кухни, то в данном случае имеет смысл заполнить пропуски придуманной категорией \"Other\" ('Другая'):*"
   ]
  },
  {
   "cell_type": "code",
   "execution_count": 22,
   "metadata": {},
   "outputs": [],
   "source": [
    "df['Cuisine Style']=df['Cuisine Style'].fillna('Other')"
   ]
  },
  {
   "cell_type": "code",
   "execution_count": 23,
   "metadata": {},
   "outputs": [],
   "source": [
    "df['Cuisine Style']=df['Cuisine Style'].str.strip(\"[]\").str.replace(\"'\",\"\")"
   ]
  },
  {
   "cell_type": "markdown",
   "metadata": {},
   "source": [
    "Теперь посчитаем общее число уникальных значений в столбце (разновидностей кухни):"
   ]
  },
  {
   "cell_type": "code",
   "execution_count": 24,
   "metadata": {},
   "outputs": [
    {
     "data": {
      "text/plain": [
       "126"
      ]
     },
     "execution_count": 24,
     "metadata": {},
     "output_type": "execute_result"
    }
   ],
   "source": [
    "#Не забываем, что одну из категорий (\"Other\") мы добавили сами\n",
    "list_of_cuisine=pd.DataFrame(df['Cuisine Style'].astype(str).str.split(',').tolist()).stack().str.strip()\n",
    "list_of_cuisine.nunique()"
   ]
  },
  {
   "cell_type": "markdown",
   "metadata": {},
   "source": [
    "Определим наиболее популярную разновидность кухни, используя метод value_counts:"
   ]
  },
  {
   "cell_type": "code",
   "execution_count": 25,
   "metadata": {},
   "outputs": [
    {
     "data": {
      "text/plain": [
       "Vegetarian Friendly    11189\n",
       "European               10060\n",
       "Other                   9283\n",
       "Mediterranean           6277\n",
       "Italian                 5964\n",
       "                       ...  \n",
       "Latvian                    1\n",
       "Burmese                    1\n",
       "Xinjiang                   1\n",
       "Salvadoran                 1\n",
       "Yunnan                     1\n",
       "Length: 126, dtype: int64"
      ]
     },
     "execution_count": 25,
     "metadata": {},
     "output_type": "execute_result"
    }
   ],
   "source": [
    "list_of_cuisine.value_counts()"
   ]
  },
  {
   "cell_type": "markdown",
   "metadata": {},
   "source": [
    "Теперь посчитаем число разновидностей кухонь для каждого ресторана и найдем, какое число разных кухонь в среднем предлагает каждое заведение:"
   ]
  },
  {
   "cell_type": "code",
   "execution_count": 26,
   "metadata": {},
   "outputs": [
    {
     "data": {
      "text/plain": [
       "2.6"
      ]
     },
     "execution_count": 26,
     "metadata": {},
     "output_type": "execute_result"
    }
   ],
   "source": [
    "number_of_cuisine=list_of_cuisine.reset_index().groupby(['level_0'])[0].count()\n",
    "round(number_of_cuisine.mean(),1)"
   ]
  },
  {
   "cell_type": "markdown",
   "metadata": {},
   "source": [
    "Добавим в данные столбец, отражающий количество различных кухонь в одном заведения:"
   ]
  },
  {
   "cell_type": "code",
   "execution_count": 27,
   "metadata": {},
   "outputs": [],
   "source": [
    "df['Number of cuisines']=list_of_cuisine.reset_index().groupby(['level_0'])[0].count()"
   ]
  },
  {
   "cell_type": "markdown",
   "metadata": {},
   "source": [
    "Также сейчас в мире активно набирает популярность вегетарианская кухня (и вегетарианство как идея в целом), поэтому можно предположить, что наличие такой опции будет для ресторана значимым преимуществом - добавим столбец, обозначающий наличие/отсутствие вегетарианских блюд в меню ресторана (1/0):"
   ]
  },
  {
   "cell_type": "code",
   "execution_count": 28,
   "metadata": {},
   "outputs": [],
   "source": [
    "df['Vegetarian Friendly']=df['Cuisine Style'].apply(lambda x: 1 if 'Vegetarian Friendly' in x else 0)"
   ]
  },
  {
   "cell_type": "markdown",
   "metadata": {},
   "source": [
    "### Отзывы (Reviews)"
   ]
  },
  {
   "cell_type": "markdown",
   "metadata": {},
   "source": [
    "Используем регулярные выражения, чтобы вытащить из данных информацию о дате последнего отзыва (по каждому ресторану):"
   ]
  },
  {
   "cell_type": "code",
   "execution_count": 29,
   "metadata": {},
   "outputs": [],
   "source": [
    "def last_review(row):\n",
    "    pd.DataFrame()\n",
    "    pattern = re.compile('\\d+[/]\\d+[/]\\d+')\n",
    "    list_of_date=pattern.findall(row)\n",
    "    if not list_of_date:\n",
    "        return None\n",
    "    else:\n",
    "        list_of_date=[pd.to_datetime(date) for date in list_of_date]\n",
    "        return max(list_of_date)"
   ]
  },
  {
   "cell_type": "code",
   "execution_count": 30,
   "metadata": {},
   "outputs": [],
   "source": [
    "recent_review=df['Reviews'].apply(last_review)"
   ]
  },
  {
   "cell_type": "markdown",
   "metadata": {},
   "source": [
    "Затем находим самый свежий отзыв на сайте в целом:"
   ]
  },
  {
   "cell_type": "code",
   "execution_count": 31,
   "metadata": {},
   "outputs": [
    {
     "data": {
      "text/plain": [
       "Timestamp('2018-02-26 00:00:00')"
      ]
     },
     "execution_count": 31,
     "metadata": {},
     "output_type": "execute_result"
    }
   ],
   "source": [
    "most_recent_review=recent_review.max()\n",
    "most_recent_review"
   ]
  },
  {
   "cell_type": "markdown",
   "metadata": {},
   "source": [
    "Теперь, используя эти данные, можно посчитать количество дней между самым свежим отзывом для каждого ресторана и самым свежим отзывом на сайте (то есть понять, насколько давно публиковался последний отзыв для того или иного ресторана):"
   ]
  },
  {
   "cell_type": "code",
   "execution_count": 32,
   "metadata": {},
   "outputs": [],
   "source": [
    "df['Last_review_days_ago']=most_recent_review-recent_review"
   ]
  },
  {
   "cell_type": "code",
   "execution_count": 33,
   "metadata": {},
   "outputs": [],
   "source": [
    "df['Last_review_days_ago']=df['Last_review_days_ago'].apply(lambda x: x.days)"
   ]
  },
  {
   "cell_type": "markdown",
   "metadata": {},
   "source": [
    "*Осталось заполнить пропуски в новых столбцах.*"
   ]
  },
  {
   "cell_type": "markdown",
   "metadata": {},
   "source": [
    "Пропуски в столбце с количеством отзывов можно заполнить средним значением по стобцу:"
   ]
  },
  {
   "cell_type": "code",
   "execution_count": 34,
   "metadata": {},
   "outputs": [],
   "source": [
    "df['Number of Reviews']=df['Number of Reviews'].fillna(df['Number of Reviews'].mean())"
   ]
  },
  {
   "cell_type": "markdown",
   "metadata": {},
   "source": [
    "Так как в столбце last_review_date содержатся данные о количестве дней, прошедших с даты публикации последнего отзыва о ресторане до даты публикации самого свежего отзыва на сайте, то пропущенные значения, которые обозначают отсутствие отзывов о ресторане, можно заполнить максимальным значением по столбцу, то есть считать их наиболее устаревшими:"
   ]
  },
  {
   "cell_type": "code",
   "execution_count": 35,
   "metadata": {},
   "outputs": [],
   "source": [
    "df['Last_review_days_ago']=df['Last_review_days_ago'].fillna(df['Last_review_days_ago'].max())"
   ]
  },
  {
   "cell_type": "markdown",
   "metadata": {},
   "source": [
    "### Дополнительная обработка"
   ]
  },
  {
   "cell_type": "code",
   "execution_count": 36,
   "metadata": {
    "scrolled": false
   },
   "outputs": [],
   "source": [
    "#Удаляем нечисловые столбцы\n",
    "df.drop(columns=['Restaurant_id','City','Cuisine Style','Price Range','Reviews','URL_TA','ID_TA'], inplace=True)"
   ]
  },
  {
   "cell_type": "code",
   "execution_count": 37,
   "metadata": {},
   "outputs": [
    {
     "data": {
      "text/plain": [
       "Ranking                  False\n",
       "Rating                   False\n",
       "Number of Reviews        False\n",
       "Price                    False\n",
       "Important_cities         False\n",
       "Less_important_cities    False\n",
       "Popular_cities           False\n",
       "Number of cuisines       False\n",
       "Vegetarian Friendly      False\n",
       "Last_review_days_ago     False\n",
       "dtype: bool"
      ]
     },
     "execution_count": 37,
     "metadata": {},
     "output_type": "execute_result"
    }
   ],
   "source": [
    "#Смотрим, остались ли в каких-то столбцах пропущенные значения\n",
    "df.isna().any()"
   ]
  },
  {
   "cell_type": "markdown",
   "metadata": {},
   "source": [
    "Теперь данные обработаны и готовы для построения модели."
   ]
  },
  {
   "cell_type": "code",
   "execution_count": 38,
   "metadata": {},
   "outputs": [
    {
     "data": {
      "text/html": [
       "<div>\n",
       "<style scoped>\n",
       "    .dataframe tbody tr th:only-of-type {\n",
       "        vertical-align: middle;\n",
       "    }\n",
       "\n",
       "    .dataframe tbody tr th {\n",
       "        vertical-align: top;\n",
       "    }\n",
       "\n",
       "    .dataframe thead th {\n",
       "        text-align: right;\n",
       "    }\n",
       "</style>\n",
       "<table border=\"1\" class=\"dataframe\">\n",
       "  <thead>\n",
       "    <tr style=\"text-align: right;\">\n",
       "      <th></th>\n",
       "      <th>Ranking</th>\n",
       "      <th>Rating</th>\n",
       "      <th>Number of Reviews</th>\n",
       "      <th>Price</th>\n",
       "      <th>Important_cities</th>\n",
       "      <th>Less_important_cities</th>\n",
       "      <th>Popular_cities</th>\n",
       "      <th>Number of cuisines</th>\n",
       "      <th>Vegetarian Friendly</th>\n",
       "      <th>Last_review_days_ago</th>\n",
       "    </tr>\n",
       "  </thead>\n",
       "  <tbody>\n",
       "    <tr>\n",
       "      <th>Ranking</th>\n",
       "      <td>1.000000</td>\n",
       "      <td>-0.368371</td>\n",
       "      <td>-0.213312</td>\n",
       "      <td>-0.026525</td>\n",
       "      <td>-0.143977</td>\n",
       "      <td>0.262376</td>\n",
       "      <td>0.594109</td>\n",
       "      <td>-0.320250</td>\n",
       "      <td>-0.300139</td>\n",
       "      <td>0.138049</td>\n",
       "    </tr>\n",
       "    <tr>\n",
       "      <th>Rating</th>\n",
       "      <td>-0.368371</td>\n",
       "      <td>1.000000</td>\n",
       "      <td>0.027969</td>\n",
       "      <td>-0.028588</td>\n",
       "      <td>0.118966</td>\n",
       "      <td>-0.103518</td>\n",
       "      <td>-0.065014</td>\n",
       "      <td>0.120059</td>\n",
       "      <td>0.128356</td>\n",
       "      <td>-0.039875</td>\n",
       "    </tr>\n",
       "    <tr>\n",
       "      <th>Number of Reviews</th>\n",
       "      <td>-0.213312</td>\n",
       "      <td>0.027969</td>\n",
       "      <td>1.000000</td>\n",
       "      <td>0.112054</td>\n",
       "      <td>0.054763</td>\n",
       "      <td>0.001037</td>\n",
       "      <td>-0.020512</td>\n",
       "      <td>0.389268</td>\n",
       "      <td>0.349710</td>\n",
       "      <td>-0.161711</td>\n",
       "    </tr>\n",
       "    <tr>\n",
       "      <th>Price</th>\n",
       "      <td>-0.026525</td>\n",
       "      <td>-0.028588</td>\n",
       "      <td>0.112054</td>\n",
       "      <td>1.000000</td>\n",
       "      <td>-0.051032</td>\n",
       "      <td>0.040037</td>\n",
       "      <td>0.021301</td>\n",
       "      <td>0.003177</td>\n",
       "      <td>0.019858</td>\n",
       "      <td>0.080393</td>\n",
       "    </tr>\n",
       "    <tr>\n",
       "      <th>Important_cities</th>\n",
       "      <td>-0.143977</td>\n",
       "      <td>0.118966</td>\n",
       "      <td>0.054763</td>\n",
       "      <td>-0.051032</td>\n",
       "      <td>1.000000</td>\n",
       "      <td>-0.255712</td>\n",
       "      <td>-0.116727</td>\n",
       "      <td>0.048124</td>\n",
       "      <td>0.068710</td>\n",
       "      <td>0.008705</td>\n",
       "    </tr>\n",
       "    <tr>\n",
       "      <th>Less_important_cities</th>\n",
       "      <td>0.262376</td>\n",
       "      <td>-0.103518</td>\n",
       "      <td>0.001037</td>\n",
       "      <td>0.040037</td>\n",
       "      <td>-0.255712</td>\n",
       "      <td>1.000000</td>\n",
       "      <td>0.377642</td>\n",
       "      <td>-0.132099</td>\n",
       "      <td>-0.087945</td>\n",
       "      <td>0.173276</td>\n",
       "    </tr>\n",
       "    <tr>\n",
       "      <th>Popular_cities</th>\n",
       "      <td>0.594109</td>\n",
       "      <td>-0.065014</td>\n",
       "      <td>-0.020512</td>\n",
       "      <td>0.021301</td>\n",
       "      <td>-0.116727</td>\n",
       "      <td>0.377642</td>\n",
       "      <td>1.000000</td>\n",
       "      <td>-0.072427</td>\n",
       "      <td>-0.019778</td>\n",
       "      <td>-0.002777</td>\n",
       "    </tr>\n",
       "    <tr>\n",
       "      <th>Number of cuisines</th>\n",
       "      <td>-0.320250</td>\n",
       "      <td>0.120059</td>\n",
       "      <td>0.389268</td>\n",
       "      <td>0.003177</td>\n",
       "      <td>0.048124</td>\n",
       "      <td>-0.132099</td>\n",
       "      <td>-0.072427</td>\n",
       "      <td>1.000000</td>\n",
       "      <td>0.691884</td>\n",
       "      <td>-0.341556</td>\n",
       "    </tr>\n",
       "    <tr>\n",
       "      <th>Vegetarian Friendly</th>\n",
       "      <td>-0.300139</td>\n",
       "      <td>0.128356</td>\n",
       "      <td>0.349710</td>\n",
       "      <td>0.019858</td>\n",
       "      <td>0.068710</td>\n",
       "      <td>-0.087945</td>\n",
       "      <td>-0.019778</td>\n",
       "      <td>0.691884</td>\n",
       "      <td>1.000000</td>\n",
       "      <td>-0.313855</td>\n",
       "    </tr>\n",
       "    <tr>\n",
       "      <th>Last_review_days_ago</th>\n",
       "      <td>0.138049</td>\n",
       "      <td>-0.039875</td>\n",
       "      <td>-0.161711</td>\n",
       "      <td>0.080393</td>\n",
       "      <td>0.008705</td>\n",
       "      <td>0.173276</td>\n",
       "      <td>-0.002777</td>\n",
       "      <td>-0.341556</td>\n",
       "      <td>-0.313855</td>\n",
       "      <td>1.000000</td>\n",
       "    </tr>\n",
       "  </tbody>\n",
       "</table>\n",
       "</div>"
      ],
      "text/plain": [
       "                        Ranking    Rating  Number of Reviews     Price  \\\n",
       "Ranking                1.000000 -0.368371          -0.213312 -0.026525   \n",
       "Rating                -0.368371  1.000000           0.027969 -0.028588   \n",
       "Number of Reviews     -0.213312  0.027969           1.000000  0.112054   \n",
       "Price                 -0.026525 -0.028588           0.112054  1.000000   \n",
       "Important_cities      -0.143977  0.118966           0.054763 -0.051032   \n",
       "Less_important_cities  0.262376 -0.103518           0.001037  0.040037   \n",
       "Popular_cities         0.594109 -0.065014          -0.020512  0.021301   \n",
       "Number of cuisines    -0.320250  0.120059           0.389268  0.003177   \n",
       "Vegetarian Friendly   -0.300139  0.128356           0.349710  0.019858   \n",
       "Last_review_days_ago   0.138049 -0.039875          -0.161711  0.080393   \n",
       "\n",
       "                       Important_cities  Less_important_cities  \\\n",
       "Ranking                       -0.143977               0.262376   \n",
       "Rating                         0.118966              -0.103518   \n",
       "Number of Reviews              0.054763               0.001037   \n",
       "Price                         -0.051032               0.040037   \n",
       "Important_cities               1.000000              -0.255712   \n",
       "Less_important_cities         -0.255712               1.000000   \n",
       "Popular_cities                -0.116727               0.377642   \n",
       "Number of cuisines             0.048124              -0.132099   \n",
       "Vegetarian Friendly            0.068710              -0.087945   \n",
       "Last_review_days_ago           0.008705               0.173276   \n",
       "\n",
       "                       Popular_cities  Number of cuisines  \\\n",
       "Ranking                      0.594109           -0.320250   \n",
       "Rating                      -0.065014            0.120059   \n",
       "Number of Reviews           -0.020512            0.389268   \n",
       "Price                        0.021301            0.003177   \n",
       "Important_cities            -0.116727            0.048124   \n",
       "Less_important_cities        0.377642           -0.132099   \n",
       "Popular_cities               1.000000           -0.072427   \n",
       "Number of cuisines          -0.072427            1.000000   \n",
       "Vegetarian Friendly         -0.019778            0.691884   \n",
       "Last_review_days_ago        -0.002777           -0.341556   \n",
       "\n",
       "                       Vegetarian Friendly  Last_review_days_ago  \n",
       "Ranking                          -0.300139              0.138049  \n",
       "Rating                            0.128356             -0.039875  \n",
       "Number of Reviews                 0.349710             -0.161711  \n",
       "Price                             0.019858              0.080393  \n",
       "Important_cities                  0.068710              0.008705  \n",
       "Less_important_cities            -0.087945              0.173276  \n",
       "Popular_cities                   -0.019778             -0.002777  \n",
       "Number of cuisines                0.691884             -0.341556  \n",
       "Vegetarian Friendly               1.000000             -0.313855  \n",
       "Last_review_days_ago             -0.313855              1.000000  "
      ]
     },
     "execution_count": 38,
     "metadata": {},
     "output_type": "execute_result"
    }
   ],
   "source": [
    "df.corr()"
   ]
  },
  {
   "cell_type": "markdown",
   "metadata": {},
   "source": [
    "# Разбиваем датафрейм на части, необходимые для обучения и тестирования модели"
   ]
  },
  {
   "cell_type": "code",
   "execution_count": 40,
   "metadata": {},
   "outputs": [],
   "source": [
    "# Х - данные с информацией о ресторанах, у - целевая переменная (рейтинги ресторанов)\n",
    "X = df.drop(['Rating'], axis = 1)\n",
    "y = df['Rating']"
   ]
  },
  {
   "cell_type": "code",
   "execution_count": 41,
   "metadata": {},
   "outputs": [],
   "source": [
    "# Загружаем специальный инструмент для разбивки:\n",
    "from sklearn.model_selection import train_test_split"
   ]
  },
  {
   "cell_type": "code",
   "execution_count": 42,
   "metadata": {},
   "outputs": [],
   "source": [
    "# Воспользуемся специальной функцие train_test_split для разбивки тестовых данных\n",
    "# выделим 25% данных на валидацию (параметр test_size)\n",
    "X_train, X_test, y_train, y_test = train_test_split(X, y, test_size=0.25, random_state=RANDOM_SEED)"
   ]
  },
  {
   "cell_type": "markdown",
   "metadata": {},
   "source": [
    "# Создаём, обучаем и тестируем модель"
   ]
  },
  {
   "cell_type": "code",
   "execution_count": 43,
   "metadata": {},
   "outputs": [],
   "source": [
    "# Импортируем необходимые библиотеки:\n",
    "from sklearn.ensemble import RandomForestRegressor # инструмент для создания и обучения модели\n",
    "from sklearn import metrics # инструменты для оценки точности модели"
   ]
  },
  {
   "cell_type": "code",
   "execution_count": 39,
   "metadata": {},
   "outputs": [],
   "source": [
    "# всегда фиксируйте RANDOM_SEED, чтобы ваши эксперименты были воспроизводимы!\n",
    "RANDOM_SEED = 42"
   ]
  },
  {
   "cell_type": "code",
   "execution_count": 44,
   "metadata": {},
   "outputs": [
    {
     "name": "stderr",
     "output_type": "stream",
     "text": [
      "[Parallel(n_jobs=-1)]: Using backend ThreadingBackend with 4 concurrent workers.\n",
      "[Parallel(n_jobs=-1)]: Done  42 tasks      | elapsed:    1.2s\n",
      "[Parallel(n_jobs=-1)]: Done 100 out of 100 | elapsed:    2.9s finished\n",
      "[Parallel(n_jobs=4)]: Using backend ThreadingBackend with 4 concurrent workers.\n",
      "[Parallel(n_jobs=4)]: Done  42 tasks      | elapsed:    0.0s\n",
      "[Parallel(n_jobs=4)]: Done 100 out of 100 | elapsed:    0.0s finished\n"
     ]
    }
   ],
   "source": [
    "# Создаём модель\n",
    "regr = RandomForestRegressor(n_estimators=100, verbose=1, n_jobs=-1, random_state=RANDOM_SEED)\n",
    "\n",
    "# Обучаем модель на тестовом наборе данных\n",
    "regr.fit(X_train, y_train)\n",
    "\n",
    "# Используем обученную модель для предсказания рейтинга ресторанов в тестовой выборке.\n",
    "# Предсказанные значения записываем в переменную y_pred\n",
    "y_pred = regr.predict(X_test)"
   ]
  },
  {
   "cell_type": "code",
   "execution_count": 48,
   "metadata": {},
   "outputs": [
    {
     "data": {
      "text/plain": [
       "array([4.45 , 4.875, 4.19 , ..., 4.13 , 4.375, 4.21 ])"
      ]
     },
     "execution_count": 48,
     "metadata": {},
     "output_type": "execute_result"
    }
   ],
   "source": [
    "y_pred"
   ]
  },
  {
   "cell_type": "code",
   "execution_count": 46,
   "metadata": {},
   "outputs": [
    {
     "name": "stdout",
     "output_type": "stream",
     "text": [
      "MAE: 0.3062168011904762\n"
     ]
    }
   ],
   "source": [
    "# Сравниваем предсказанные значения (y_pred) с реальными (y_test), и смотрим насколько они в среднем отличаются\n",
    "# Метрика называется Mean Absolute Error (MAE) и показывает среднее отклонение предсказанных значений от фактических.\n",
    "print('MAE:', metrics.mean_absolute_error(y_test, y_pred))"
   ]
  },
  {
   "cell_type": "markdown",
   "metadata": {},
   "source": [
    "#### Итак, с помощью обработки данных и создания новых фичей нам удалось понизить среднюю абсолютную ошибку с 0,42 до 0,30 и построить более качественную модель, предсказывающую реальные оценки ресторанов на сервисе TripAdvisor."
   ]
  },
  {
   "cell_type": "code",
   "execution_count": 50,
   "metadata": {},
   "outputs": [],
   "source": [
    "result=pd.DataFrame(y_pred).reset_index()\n",
    "result.columns=['Restaurant_id','Rating']\n",
    "result['Restaurant_id']='id_'+result['Restaurant_id'].astype(str)\n",
    "result.set_index('Restaurant_id', drop=True, inplace=True)\n",
    "result\n",
    "result.to_csv('submission.csv')"
   ]
  }
 ],
 "metadata": {
  "kernelspec": {
   "display_name": "Python 3",
   "language": "python",
   "name": "python3"
  },
  "language_info": {
   "codemirror_mode": {
    "name": "ipython",
    "version": 3
   },
   "file_extension": ".py",
   "mimetype": "text/x-python",
   "name": "python",
   "nbconvert_exporter": "python",
   "pygments_lexer": "ipython3",
   "version": "3.7.6"
  }
 },
 "nbformat": 4,
 "nbformat_minor": 2
}
